{
 "cells": [
  {
   "cell_type": "code",
   "execution_count": 2,
   "id": "9212d382-63e2-4a8a-ac28-91e9b478d31d",
   "metadata": {},
   "outputs": [
    {
     "name": "stdout",
     "output_type": "stream",
     "text": [
      "Welcome to the Typecasting Demo!\n"
     ]
    },
    {
     "name": "stdin",
     "output_type": "stream",
     "text": [
      "Enter a number (as string):  '33'\n",
      "Enter an integer:  333\n",
      "Enter a floating-point number:  333.3\n"
     ]
    },
    {
     "name": "stdout",
     "output_type": "stream",
     "text": [
      "Cannot cast ''33'' to integer.\n",
      "333 casted to float: 333.0\n",
      "333.3 casted to integer: 333\n",
      "333 casted to string: '333'\n",
      "333.3 casted to string: '333.3'\n"
     ]
    }
   ],
   "source": [
    "def typecasting_demo():\n",
    "    print(\"Welcome to the Typecasting Demo!\")\n",
    "\n",
    "    # Taking user inputs\n",
    "    input_str = input(\"Enter a number (as string): \")\n",
    "    input_int = int(input(\"Enter an integer: \"))\n",
    "    input_float = float(input(\"Enter a floating-point number: \"))\n",
    "\n",
    "    # Typecasting string to int\n",
    "    try:\n",
    "        casted_str_to_int = int(input_str)\n",
    "        print(f\"'{input_str}' casted to integer: {casted_str_to_int}\")\n",
    "    except ValueError:\n",
    "        print(f\"Cannot cast '{input_str}' to integer.\")\n",
    "\n",
    "    # Typecasting integer to float\n",
    "    casted_int_to_float = float(input_int)\n",
    "    print(f\"{input_int} casted to float: {casted_int_to_float}\")\n",
    "\n",
    "    # Typecasting float to integer (losing decimal part)\n",
    "    casted_float_to_int = int(input_float)\n",
    "    print(f\"{input_float} casted to integer: {casted_float_to_int}\")\n",
    "\n",
    "    # Typecasting integer to string\n",
    "    casted_int_to_str = str(input_int)\n",
    "    print(f\"{input_int} casted to string: '{casted_int_to_str}'\")\n",
    "\n",
    "    # Typecasting float to string\n",
    "    casted_float_to_str = str(input_float)\n",
    "    print(f\"{input_float} casted to string: '{casted_float_to_str}'\")\n",
    "\n",
    "if __name__ == \"__main__\":\n",
    "    typecasting_demo()"
   ]
  },
  {
   "cell_type": "code",
   "execution_count": 3,
   "id": "aa3d9ed2-97f8-486e-ad7d-b4882dd2855d",
   "metadata": {},
   "outputs": [
    {
     "name": "stdout",
     "output_type": "stream",
     "text": [
      "Welcome to the Typecasting Demo!\n"
     ]
    },
    {
     "name": "stdin",
     "output_type": "stream",
     "text": [
      "Enter a number (as string):  \"33\"\n",
      "Enter an integer:  40\n",
      "Enter a floating-point number:  40.5\n"
     ]
    },
    {
     "name": "stdout",
     "output_type": "stream",
     "text": [
      "'33' casted to integer: 33\n",
      "40 casted to float: 40.0\n",
      "40.5 casted to integer: 40\n",
      "40 casted to string: '40'\n",
      "40.5 casted to string: '40.5'\n"
     ]
    }
   ],
   "source": [
    "def typecasting_demo():\n",
    "    print(\"Welcome to the Typecasting Demo!\")\n",
    "\n",
    "    # Taking user input\n",
    "    input_str = input(\"Enter a number (as string): \")\n",
    "    input_int = int(input(\"Enter an integer: \"))\n",
    "    input_float = float(input(\"Enter a floating-point number: \"))\n",
    "\n",
    "    # Remove extra quotation marks if present\n",
    "    input_str = input_str.strip(\"'\\\"\")\n",
    "\n",
    "    # Typecasting string to int\n",
    "    try:\n",
    "        casted_str_to_int = int(input_str)\n",
    "        print(f\"'{input_str}' casted to integer: {casted_str_to_int}\")\n",
    "    except ValueError:\n",
    "        print(f\"Cannot cast '{input_str}' to integer.\")\n",
    "\n",
    "    # Typecasting integer to float\n",
    "    casted_int_to_float = float(input_int)\n",
    "    print(f\"{input_int} casted to float: {casted_int_to_float}\")\n",
    "\n",
    "    # Typecasting float to integer (losing decimal part)\n",
    "    casted_float_to_int = int(input_float)\n",
    "    print(f\"{input_float} casted to integer: {casted_float_to_int}\")\n",
    "\n",
    "    # Typecasting integer to string\n",
    "    casted_int_to_str = str(input_int)\n",
    "    print(f\"{input_int} casted to string: '{casted_int_to_str}'\")\n",
    "\n",
    "    # Typecasting float to string\n",
    "    casted_float_to_str = str(input_float)\n",
    "    print(f\"{input_float} casted to string: '{casted_float_to_str}'\")\n",
    "\n",
    "if __name__ == \"__main__\":\n",
    "    typecasting_demo()"
   ]
  }
 ],
 "metadata": {
  "kernelspec": {
   "display_name": "Python 3 (ipykernel)",
   "language": "python",
   "name": "python3"
  },
  "language_info": {
   "codemirror_mode": {
    "name": "ipython",
    "version": 3
   },
   "file_extension": ".py",
   "mimetype": "text/x-python",
   "name": "python",
   "nbconvert_exporter": "python",
   "pygments_lexer": "ipython3",
   "version": "3.12.3"
  }
 },
 "nbformat": 4,
 "nbformat_minor": 5
}
